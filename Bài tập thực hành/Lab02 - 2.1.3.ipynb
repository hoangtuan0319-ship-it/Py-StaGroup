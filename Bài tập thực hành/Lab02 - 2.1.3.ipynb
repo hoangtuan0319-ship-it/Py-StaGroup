{
  "nbformat": 4,
  "nbformat_minor": 0,
  "metadata": {
    "colab": {
      "provenance": []
    },
    "kernelspec": {
      "name": "python3",
      "display_name": "Python 3"
    },
    "language_info": {
      "name": "python"
    }
  },
  "cells": [
    {
      "cell_type": "code",
      "execution_count": null,
      "metadata": {
        "colab": {
          "base_uri": "https://localhost:8080/"
        },
        "id": "DBpS4et5Qzjf",
        "outputId": "13fadc64-dcd2-4c2f-b29f-e7b41129583b"
      },
      "outputs": [
        {
          "output_type": "stream",
          "name": "stdout",
          "text": [
            "Requirement already satisfied: pandas in /usr/local/lib/python3.12/dist-packages (2.2.2)\n",
            "Requirement already satisfied: numpy>=1.26.0 in /usr/local/lib/python3.12/dist-packages (from pandas) (2.0.2)\n",
            "Requirement already satisfied: python-dateutil>=2.8.2 in /usr/local/lib/python3.12/dist-packages (from pandas) (2.9.0.post0)\n",
            "Requirement already satisfied: pytz>=2020.1 in /usr/local/lib/python3.12/dist-packages (from pandas) (2025.2)\n",
            "Requirement already satisfied: tzdata>=2022.7 in /usr/local/lib/python3.12/dist-packages (from pandas) (2025.2)\n",
            "Requirement already satisfied: six>=1.5 in /usr/local/lib/python3.12/dist-packages (from python-dateutil>=2.8.2->pandas) (1.17.0)\n"
          ]
        }
      ],
      "source": [
        "!pip install pandas\n"
      ]
    },
    {
      "cell_type": "code",
      "source": [
        "from google.colab import files\n",
        "\n",
        "uploaded = files.upload()  # Chọn file ZIP từ máy tính\n"
      ],
      "metadata": {
        "colab": {
          "base_uri": "https://localhost:8080/",
          "height": 73
        },
        "id": "UD_3meNoSJ4n",
        "outputId": "77159e6b-01e5-4be4-995d-2fac48541b8f"
      },
      "execution_count": null,
      "outputs": [
        {
          "output_type": "display_data",
          "data": {
            "text/plain": [
              "<IPython.core.display.HTML object>"
            ],
            "text/html": [
              "\n",
              "     <input type=\"file\" id=\"files-72a5594e-2abc-40a4-ab4e-67fad66f0806\" name=\"files[]\" multiple disabled\n",
              "        style=\"border:none\" />\n",
              "     <output id=\"result-72a5594e-2abc-40a4-ab4e-67fad66f0806\">\n",
              "      Upload widget is only available when the cell has been executed in the\n",
              "      current browser session. Please rerun this cell to enable.\n",
              "      </output>\n",
              "      <script>// Copyright 2017 Google LLC\n",
              "//\n",
              "// Licensed under the Apache License, Version 2.0 (the \"License\");\n",
              "// you may not use this file except in compliance with the License.\n",
              "// You may obtain a copy of the License at\n",
              "//\n",
              "//      http://www.apache.org/licenses/LICENSE-2.0\n",
              "//\n",
              "// Unless required by applicable law or agreed to in writing, software\n",
              "// distributed under the License is distributed on an \"AS IS\" BASIS,\n",
              "// WITHOUT WARRANTIES OR CONDITIONS OF ANY KIND, either express or implied.\n",
              "// See the License for the specific language governing permissions and\n",
              "// limitations under the License.\n",
              "\n",
              "/**\n",
              " * @fileoverview Helpers for google.colab Python module.\n",
              " */\n",
              "(function(scope) {\n",
              "function span(text, styleAttributes = {}) {\n",
              "  const element = document.createElement('span');\n",
              "  element.textContent = text;\n",
              "  for (const key of Object.keys(styleAttributes)) {\n",
              "    element.style[key] = styleAttributes[key];\n",
              "  }\n",
              "  return element;\n",
              "}\n",
              "\n",
              "// Max number of bytes which will be uploaded at a time.\n",
              "const MAX_PAYLOAD_SIZE = 100 * 1024;\n",
              "\n",
              "function _uploadFiles(inputId, outputId) {\n",
              "  const steps = uploadFilesStep(inputId, outputId);\n",
              "  const outputElement = document.getElementById(outputId);\n",
              "  // Cache steps on the outputElement to make it available for the next call\n",
              "  // to uploadFilesContinue from Python.\n",
              "  outputElement.steps = steps;\n",
              "\n",
              "  return _uploadFilesContinue(outputId);\n",
              "}\n",
              "\n",
              "// This is roughly an async generator (not supported in the browser yet),\n",
              "// where there are multiple asynchronous steps and the Python side is going\n",
              "// to poll for completion of each step.\n",
              "// This uses a Promise to block the python side on completion of each step,\n",
              "// then passes the result of the previous step as the input to the next step.\n",
              "function _uploadFilesContinue(outputId) {\n",
              "  const outputElement = document.getElementById(outputId);\n",
              "  const steps = outputElement.steps;\n",
              "\n",
              "  const next = steps.next(outputElement.lastPromiseValue);\n",
              "  return Promise.resolve(next.value.promise).then((value) => {\n",
              "    // Cache the last promise value to make it available to the next\n",
              "    // step of the generator.\n",
              "    outputElement.lastPromiseValue = value;\n",
              "    return next.value.response;\n",
              "  });\n",
              "}\n",
              "\n",
              "/**\n",
              " * Generator function which is called between each async step of the upload\n",
              " * process.\n",
              " * @param {string} inputId Element ID of the input file picker element.\n",
              " * @param {string} outputId Element ID of the output display.\n",
              " * @return {!Iterable<!Object>} Iterable of next steps.\n",
              " */\n",
              "function* uploadFilesStep(inputId, outputId) {\n",
              "  const inputElement = document.getElementById(inputId);\n",
              "  inputElement.disabled = false;\n",
              "\n",
              "  const outputElement = document.getElementById(outputId);\n",
              "  outputElement.innerHTML = '';\n",
              "\n",
              "  const pickedPromise = new Promise((resolve) => {\n",
              "    inputElement.addEventListener('change', (e) => {\n",
              "      resolve(e.target.files);\n",
              "    });\n",
              "  });\n",
              "\n",
              "  const cancel = document.createElement('button');\n",
              "  inputElement.parentElement.appendChild(cancel);\n",
              "  cancel.textContent = 'Cancel upload';\n",
              "  const cancelPromise = new Promise((resolve) => {\n",
              "    cancel.onclick = () => {\n",
              "      resolve(null);\n",
              "    };\n",
              "  });\n",
              "\n",
              "  // Wait for the user to pick the files.\n",
              "  const files = yield {\n",
              "    promise: Promise.race([pickedPromise, cancelPromise]),\n",
              "    response: {\n",
              "      action: 'starting',\n",
              "    }\n",
              "  };\n",
              "\n",
              "  cancel.remove();\n",
              "\n",
              "  // Disable the input element since further picks are not allowed.\n",
              "  inputElement.disabled = true;\n",
              "\n",
              "  if (!files) {\n",
              "    return {\n",
              "      response: {\n",
              "        action: 'complete',\n",
              "      }\n",
              "    };\n",
              "  }\n",
              "\n",
              "  for (const file of files) {\n",
              "    const li = document.createElement('li');\n",
              "    li.append(span(file.name, {fontWeight: 'bold'}));\n",
              "    li.append(span(\n",
              "        `(${file.type || 'n/a'}) - ${file.size} bytes, ` +\n",
              "        `last modified: ${\n",
              "            file.lastModifiedDate ? file.lastModifiedDate.toLocaleDateString() :\n",
              "                                    'n/a'} - `));\n",
              "    const percent = span('0% done');\n",
              "    li.appendChild(percent);\n",
              "\n",
              "    outputElement.appendChild(li);\n",
              "\n",
              "    const fileDataPromise = new Promise((resolve) => {\n",
              "      const reader = new FileReader();\n",
              "      reader.onload = (e) => {\n",
              "        resolve(e.target.result);\n",
              "      };\n",
              "      reader.readAsArrayBuffer(file);\n",
              "    });\n",
              "    // Wait for the data to be ready.\n",
              "    let fileData = yield {\n",
              "      promise: fileDataPromise,\n",
              "      response: {\n",
              "        action: 'continue',\n",
              "      }\n",
              "    };\n",
              "\n",
              "    // Use a chunked sending to avoid message size limits. See b/62115660.\n",
              "    let position = 0;\n",
              "    do {\n",
              "      const length = Math.min(fileData.byteLength - position, MAX_PAYLOAD_SIZE);\n",
              "      const chunk = new Uint8Array(fileData, position, length);\n",
              "      position += length;\n",
              "\n",
              "      const base64 = btoa(String.fromCharCode.apply(null, chunk));\n",
              "      yield {\n",
              "        response: {\n",
              "          action: 'append',\n",
              "          file: file.name,\n",
              "          data: base64,\n",
              "        },\n",
              "      };\n",
              "\n",
              "      let percentDone = fileData.byteLength === 0 ?\n",
              "          100 :\n",
              "          Math.round((position / fileData.byteLength) * 100);\n",
              "      percent.textContent = `${percentDone}% done`;\n",
              "\n",
              "    } while (position < fileData.byteLength);\n",
              "  }\n",
              "\n",
              "  // All done.\n",
              "  yield {\n",
              "    response: {\n",
              "      action: 'complete',\n",
              "    }\n",
              "  };\n",
              "}\n",
              "\n",
              "scope.google = scope.google || {};\n",
              "scope.google.colab = scope.google.colab || {};\n",
              "scope.google.colab._files = {\n",
              "  _uploadFiles,\n",
              "  _uploadFilesContinue,\n",
              "};\n",
              "})(self);\n",
              "</script> "
            ]
          },
          "metadata": {}
        },
        {
          "output_type": "stream",
          "name": "stdout",
          "text": [
            "Saving titanic.zip to titanic.zip\n"
          ]
        }
      ]
    },
    {
      "cell_type": "code",
      "source": [
        "import zipfile\n",
        "\n",
        "with zipfile.ZipFile(\"titanic.zip\", \"r\") as zip_ref:\n",
        "    zip_ref.extractall(\"data_folder\")  # giải nén vào thư mục \"data_folder\"\n"
      ],
      "metadata": {
        "id": "vZnFXWbTS4dT"
      },
      "execution_count": null,
      "outputs": []
    },
    {
      "cell_type": "code",
      "source": [
        "import os\n",
        "os.listdir()\n"
      ],
      "metadata": {
        "colab": {
          "base_uri": "https://localhost:8080/"
        },
        "id": "gmel-fheTRiY",
        "outputId": "9971874e-2612-4e8a-dd2e-df8243c20860"
      },
      "execution_count": null,
      "outputs": [
        {
          "output_type": "execute_result",
          "data": {
            "text/plain": [
              "['.config', 'titanic.zip', 'data_folder', 'sample_data']"
            ]
          },
          "metadata": {},
          "execution_count": 7
        }
      ]
    },
    {
      "cell_type": "code",
      "source": [
        "import pandas as pd\n",
        "\n",
        "# 1️⃣ Đọc file train.csv từ đường dẫn đúng\n",
        "train_df = pd.read_csv(\"data_folder/train.csv\")  # ← đây là đường dẫn bạn cần\n",
        "\n",
        "# 2️⃣ Tiền xử lý dữ liệu\n",
        "train_df['Age'] = train_df['Age'].fillna(train_df['Age'].median())\n",
        "train_df['Embarked'] = train_df['Embarked'].fillna(train_df['Embarked'].mode()[0])\n",
        "\n",
        "# 3️⃣ Chuyển biến phân loại thành biến giả\n",
        "train_df = pd.get_dummies(train_df, columns=['Sex', 'Embarked'], drop_first=True)\n",
        "\n",
        "# 4️⃣ Chọn đặc trưng và nhãn\n",
        "features = ['Pclass', 'Sex_male', 'Age', 'SibSp', 'Parch', 'Fare', 'Embarked_Q', 'Embarked_S']\n",
        "target = 'Survived'\n",
        "\n",
        "X_train = train_df[features]\n",
        "y_train = train_df[target]\n",
        "\n",
        "# =========================\n",
        "# 5️⃣ Decision Tree\n",
        "# =========================\n",
        "from sklearn.tree import DecisionTreeClassifier, export_graphviz\n",
        "from sklearn.metrics import accuracy_score\n",
        "import graphviz\n",
        "\n",
        "dt = DecisionTreeClassifier(max_depth=3, random_state=42)\n",
        "dt.fit(X_train, y_train)\n",
        "y_pred = dt.predict(X_train)\n",
        "\n",
        "print(\"Accuracy:\", accuracy_score(y_train, y_pred))\n",
        "\n",
        "# =========================\n",
        "# 6️⃣ Vẽ cây quyết định\n",
        "# =========================\n",
        "dot_data = export_graphviz(dt, out_file=None,\n",
        "                           feature_names=X_train.columns,\n",
        "                           class_names=['Not Survived','Survived'],\n",
        "                           filled=True, rounded=True,\n",
        "                           proportion=True)\n",
        "graph = graphviz.Source(dot_data)\n",
        "graph\n",
        "\n",
        "\n"
      ],
      "metadata": {
        "colab": {
          "base_uri": "https://localhost:8080/",
          "height": 636
        },
        "id": "-1dvJb1nWRP5",
        "outputId": "ca8e10fd-5256-4aa5-ae12-00d8359fec87"
      },
      "execution_count": null,
      "outputs": [
        {
          "output_type": "stream",
          "name": "stdout",
          "text": [
            "Accuracy: 0.8271604938271605\n"
          ]
        },
        {
          "output_type": "execute_result",
          "data": {
            "image/svg+xml": "<?xml version=\"1.0\" encoding=\"UTF-8\" standalone=\"no\"?>\n<!DOCTYPE svg PUBLIC \"-//W3C//DTD SVG 1.1//EN\"\n \"http://www.w3.org/Graphics/SVG/1.1/DTD/svg11.dtd\">\n<!-- Generated by graphviz version 2.43.0 (0)\n -->\n<!-- Title: Tree Pages: 1 -->\n<svg width=\"1260pt\" height=\"433pt\"\n viewBox=\"0.00 0.00 1259.50 433.00\" xmlns=\"http://www.w3.org/2000/svg\" xmlns:xlink=\"http://www.w3.org/1999/xlink\">\n<g id=\"graph0\" class=\"graph\" transform=\"scale(1 1) rotate(0) translate(4 429)\">\n<title>Tree</title>\n<polygon fill=\"white\" stroke=\"transparent\" points=\"-4,4 -4,-429 1255.5,-429 1255.5,4 -4,4\"/>\n<!-- 0 -->\n<g id=\"node1\" class=\"node\">\n<title>0</title>\n<path fill=\"#f5cfb4\" stroke=\"black\" d=\"M676.5,-425C676.5,-425 553.5,-425 553.5,-425 547.5,-425 541.5,-419 541.5,-413 541.5,-413 541.5,-354 541.5,-354 541.5,-348 547.5,-342 553.5,-342 553.5,-342 676.5,-342 676.5,-342 682.5,-342 688.5,-348 688.5,-354 688.5,-354 688.5,-413 688.5,-413 688.5,-419 682.5,-425 676.5,-425\"/>\n<text text-anchor=\"middle\" x=\"615\" y=\"-409.8\" font-family=\"Helvetica,sans-Serif\" font-size=\"14.00\">Sex_male &lt;= 0.5</text>\n<text text-anchor=\"middle\" x=\"615\" y=\"-394.8\" font-family=\"Helvetica,sans-Serif\" font-size=\"14.00\">gini = 0.473</text>\n<text text-anchor=\"middle\" x=\"615\" y=\"-379.8\" font-family=\"Helvetica,sans-Serif\" font-size=\"14.00\">samples = 100.0%</text>\n<text text-anchor=\"middle\" x=\"615\" y=\"-364.8\" font-family=\"Helvetica,sans-Serif\" font-size=\"14.00\">value = [0.616, 0.384]</text>\n<text text-anchor=\"middle\" x=\"615\" y=\"-349.8\" font-family=\"Helvetica,sans-Serif\" font-size=\"14.00\">class = Not Survived</text>\n</g>\n<!-- 1 -->\n<g id=\"node2\" class=\"node\">\n<title>1</title>\n<path fill=\"#7ebfee\" stroke=\"black\" d=\"M524.5,-306C524.5,-306 401.5,-306 401.5,-306 395.5,-306 389.5,-300 389.5,-294 389.5,-294 389.5,-235 389.5,-235 389.5,-229 395.5,-223 401.5,-223 401.5,-223 524.5,-223 524.5,-223 530.5,-223 536.5,-229 536.5,-235 536.5,-235 536.5,-294 536.5,-294 536.5,-300 530.5,-306 524.5,-306\"/>\n<text text-anchor=\"middle\" x=\"463\" y=\"-290.8\" font-family=\"Helvetica,sans-Serif\" font-size=\"14.00\">Pclass &lt;= 2.5</text>\n<text text-anchor=\"middle\" x=\"463\" y=\"-275.8\" font-family=\"Helvetica,sans-Serif\" font-size=\"14.00\">gini = 0.383</text>\n<text text-anchor=\"middle\" x=\"463\" y=\"-260.8\" font-family=\"Helvetica,sans-Serif\" font-size=\"14.00\">samples = 35.2%</text>\n<text text-anchor=\"middle\" x=\"463\" y=\"-245.8\" font-family=\"Helvetica,sans-Serif\" font-size=\"14.00\">value = [0.258, 0.742]</text>\n<text text-anchor=\"middle\" x=\"463\" y=\"-230.8\" font-family=\"Helvetica,sans-Serif\" font-size=\"14.00\">class = Survived</text>\n</g>\n<!-- 0&#45;&gt;1 -->\n<g id=\"edge1\" class=\"edge\">\n<title>0&#45;&gt;1</title>\n<path fill=\"none\" stroke=\"black\" d=\"M562.26,-341.91C549.88,-332.38 536.59,-322.15 523.89,-312.37\"/>\n<polygon fill=\"black\" stroke=\"black\" points=\"525.7,-309.35 515.64,-306.02 521.43,-314.89 525.7,-309.35\"/>\n<text text-anchor=\"middle\" x=\"518.87\" y=\"-327.11\" font-family=\"Helvetica,sans-Serif\" font-size=\"14.00\">True</text>\n</g>\n<!-- 8 -->\n<g id=\"node9\" class=\"node\">\n<title>8</title>\n<path fill=\"#eb9e67\" stroke=\"black\" d=\"M834.5,-306C834.5,-306 711.5,-306 711.5,-306 705.5,-306 699.5,-300 699.5,-294 699.5,-294 699.5,-235 699.5,-235 699.5,-229 705.5,-223 711.5,-223 711.5,-223 834.5,-223 834.5,-223 840.5,-223 846.5,-229 846.5,-235 846.5,-235 846.5,-294 846.5,-294 846.5,-300 840.5,-306 834.5,-306\"/>\n<text text-anchor=\"middle\" x=\"773\" y=\"-290.8\" font-family=\"Helvetica,sans-Serif\" font-size=\"14.00\">Age &lt;= 6.5</text>\n<text text-anchor=\"middle\" x=\"773\" y=\"-275.8\" font-family=\"Helvetica,sans-Serif\" font-size=\"14.00\">gini = 0.306</text>\n<text text-anchor=\"middle\" x=\"773\" y=\"-260.8\" font-family=\"Helvetica,sans-Serif\" font-size=\"14.00\">samples = 64.8%</text>\n<text text-anchor=\"middle\" x=\"773\" y=\"-245.8\" font-family=\"Helvetica,sans-Serif\" font-size=\"14.00\">value = [0.811, 0.189]</text>\n<text text-anchor=\"middle\" x=\"773\" y=\"-230.8\" font-family=\"Helvetica,sans-Serif\" font-size=\"14.00\">class = Not Survived</text>\n</g>\n<!-- 0&#45;&gt;8 -->\n<g id=\"edge8\" class=\"edge\">\n<title>0&#45;&gt;8</title>\n<path fill=\"none\" stroke=\"black\" d=\"M669.82,-341.91C682.81,-332.29 696.76,-321.95 710.08,-312.09\"/>\n<polygon fill=\"black\" stroke=\"black\" points=\"712.33,-314.78 718.28,-306.02 708.16,-309.16 712.33,-314.78\"/>\n<text text-anchor=\"middle\" x=\"714.59\" y=\"-327.05\" font-family=\"Helvetica,sans-Serif\" font-size=\"14.00\">False</text>\n</g>\n<!-- 2 -->\n<g id=\"node3\" class=\"node\">\n<title>2</title>\n<path fill=\"#44a2e6\" stroke=\"black\" d=\"M293.5,-187C293.5,-187 170.5,-187 170.5,-187 164.5,-187 158.5,-181 158.5,-175 158.5,-175 158.5,-116 158.5,-116 158.5,-110 164.5,-104 170.5,-104 170.5,-104 293.5,-104 293.5,-104 299.5,-104 305.5,-110 305.5,-116 305.5,-116 305.5,-175 305.5,-175 305.5,-181 299.5,-187 293.5,-187\"/>\n<text text-anchor=\"middle\" x=\"232\" y=\"-171.8\" font-family=\"Helvetica,sans-Serif\" font-size=\"14.00\">Age &lt;= 2.5</text>\n<text text-anchor=\"middle\" x=\"232\" y=\"-156.8\" font-family=\"Helvetica,sans-Serif\" font-size=\"14.00\">gini = 0.1</text>\n<text text-anchor=\"middle\" x=\"232\" y=\"-141.8\" font-family=\"Helvetica,sans-Serif\" font-size=\"14.00\">samples = 19.1%</text>\n<text text-anchor=\"middle\" x=\"232\" y=\"-126.8\" font-family=\"Helvetica,sans-Serif\" font-size=\"14.00\">value = [0.053, 0.947]</text>\n<text text-anchor=\"middle\" x=\"232\" y=\"-111.8\" font-family=\"Helvetica,sans-Serif\" font-size=\"14.00\">class = Survived</text>\n</g>\n<!-- 1&#45;&gt;2 -->\n<g id=\"edge2\" class=\"edge\">\n<title>1&#45;&gt;2</title>\n<path fill=\"none\" stroke=\"black\" d=\"M389.28,-226.16C365.62,-214.18 339.27,-200.83 315.01,-188.54\"/>\n<polygon fill=\"black\" stroke=\"black\" points=\"316.32,-185.28 305.82,-183.89 313.16,-191.53 316.32,-185.28\"/>\n</g>\n<!-- 5 -->\n<g id=\"node6\" class=\"node\">\n<title>5</title>\n<path fill=\"#ffffff\" stroke=\"black\" d=\"M521,-187C521,-187 405,-187 405,-187 399,-187 393,-181 393,-175 393,-175 393,-116 393,-116 393,-110 399,-104 405,-104 405,-104 521,-104 521,-104 527,-104 533,-110 533,-116 533,-116 533,-175 533,-175 533,-181 527,-187 521,-187\"/>\n<text text-anchor=\"middle\" x=\"463\" y=\"-171.8\" font-family=\"Helvetica,sans-Serif\" font-size=\"14.00\">Fare &lt;= 23.35</text>\n<text text-anchor=\"middle\" x=\"463\" y=\"-156.8\" font-family=\"Helvetica,sans-Serif\" font-size=\"14.00\">gini = 0.5</text>\n<text text-anchor=\"middle\" x=\"463\" y=\"-141.8\" font-family=\"Helvetica,sans-Serif\" font-size=\"14.00\">samples = 16.2%</text>\n<text text-anchor=\"middle\" x=\"463\" y=\"-126.8\" font-family=\"Helvetica,sans-Serif\" font-size=\"14.00\">value = [0.5, 0.5]</text>\n<text text-anchor=\"middle\" x=\"463\" y=\"-111.8\" font-family=\"Helvetica,sans-Serif\" font-size=\"14.00\">class = Not Survived</text>\n</g>\n<!-- 1&#45;&gt;5 -->\n<g id=\"edge5\" class=\"edge\">\n<title>1&#45;&gt;5</title>\n<path fill=\"none\" stroke=\"black\" d=\"M463,-222.91C463,-214.65 463,-205.86 463,-197.3\"/>\n<polygon fill=\"black\" stroke=\"black\" points=\"466.5,-197.02 463,-187.02 459.5,-197.02 466.5,-197.02\"/>\n</g>\n<!-- 3 -->\n<g id=\"node4\" class=\"node\">\n<title>3</title>\n<path fill=\"#ffffff\" stroke=\"black\" d=\"M128,-68C128,-68 12,-68 12,-68 6,-68 0,-62 0,-56 0,-56 0,-12 0,-12 0,-6 6,0 12,0 12,0 128,0 128,0 134,0 140,-6 140,-12 140,-12 140,-56 140,-56 140,-62 134,-68 128,-68\"/>\n<text text-anchor=\"middle\" x=\"70\" y=\"-52.8\" font-family=\"Helvetica,sans-Serif\" font-size=\"14.00\">gini = 0.5</text>\n<text text-anchor=\"middle\" x=\"70\" y=\"-37.8\" font-family=\"Helvetica,sans-Serif\" font-size=\"14.00\">samples = 0.2%</text>\n<text text-anchor=\"middle\" x=\"70\" y=\"-22.8\" font-family=\"Helvetica,sans-Serif\" font-size=\"14.00\">value = [0.5, 0.5]</text>\n<text text-anchor=\"middle\" x=\"70\" y=\"-7.8\" font-family=\"Helvetica,sans-Serif\" font-size=\"14.00\">class = Not Survived</text>\n</g>\n<!-- 2&#45;&gt;3 -->\n<g id=\"edge3\" class=\"edge\">\n<title>2&#45;&gt;3</title>\n<path fill=\"none\" stroke=\"black\" d=\"M171.68,-103.73C157.16,-93.92 141.7,-83.46 127.33,-73.75\"/>\n<polygon fill=\"black\" stroke=\"black\" points=\"129.25,-70.83 119.01,-68.13 125.33,-76.62 129.25,-70.83\"/>\n</g>\n<!-- 4 -->\n<g id=\"node5\" class=\"node\">\n<title>4</title>\n<path fill=\"#43a2e6\" stroke=\"black\" d=\"M293.5,-68C293.5,-68 170.5,-68 170.5,-68 164.5,-68 158.5,-62 158.5,-56 158.5,-56 158.5,-12 158.5,-12 158.5,-6 164.5,0 170.5,0 170.5,0 293.5,0 293.5,0 299.5,0 305.5,-6 305.5,-12 305.5,-12 305.5,-56 305.5,-56 305.5,-62 299.5,-68 293.5,-68\"/>\n<text text-anchor=\"middle\" x=\"232\" y=\"-52.8\" font-family=\"Helvetica,sans-Serif\" font-size=\"14.00\">gini = 0.091</text>\n<text text-anchor=\"middle\" x=\"232\" y=\"-37.8\" font-family=\"Helvetica,sans-Serif\" font-size=\"14.00\">samples = 18.9%</text>\n<text text-anchor=\"middle\" x=\"232\" y=\"-22.8\" font-family=\"Helvetica,sans-Serif\" font-size=\"14.00\">value = [0.048, 0.952]</text>\n<text text-anchor=\"middle\" x=\"232\" y=\"-7.8\" font-family=\"Helvetica,sans-Serif\" font-size=\"14.00\">class = Survived</text>\n</g>\n<!-- 2&#45;&gt;4 -->\n<g id=\"edge4\" class=\"edge\">\n<title>2&#45;&gt;4</title>\n<path fill=\"none\" stroke=\"black\" d=\"M232,-103.73C232,-95.52 232,-86.86 232,-78.56\"/>\n<polygon fill=\"black\" stroke=\"black\" points=\"235.5,-78.3 232,-68.3 228.5,-78.3 235.5,-78.3\"/>\n</g>\n<!-- 6 -->\n<g id=\"node7\" class=\"node\">\n<title>6</title>\n<path fill=\"#c3e1f7\" stroke=\"black\" d=\"M444,-68C444,-68 336,-68 336,-68 330,-68 324,-62 324,-56 324,-56 324,-12 324,-12 324,-6 330,0 336,0 336,0 444,0 444,0 450,0 456,-6 456,-12 456,-12 456,-56 456,-56 456,-62 450,-68 444,-68\"/>\n<text text-anchor=\"middle\" x=\"390\" y=\"-52.8\" font-family=\"Helvetica,sans-Serif\" font-size=\"14.00\">gini = 0.484</text>\n<text text-anchor=\"middle\" x=\"390\" y=\"-37.8\" font-family=\"Helvetica,sans-Serif\" font-size=\"14.00\">samples = 13.1%</text>\n<text text-anchor=\"middle\" x=\"390\" y=\"-22.8\" font-family=\"Helvetica,sans-Serif\" font-size=\"14.00\">value = [0.41, 0.59]</text>\n<text text-anchor=\"middle\" x=\"390\" y=\"-7.8\" font-family=\"Helvetica,sans-Serif\" font-size=\"14.00\">class = Survived</text>\n</g>\n<!-- 5&#45;&gt;6 -->\n<g id=\"edge6\" class=\"edge\">\n<title>5&#45;&gt;6</title>\n<path fill=\"none\" stroke=\"black\" d=\"M435.82,-103.73C429.92,-94.88 423.67,-85.51 417.75,-76.63\"/>\n<polygon fill=\"black\" stroke=\"black\" points=\"420.66,-74.68 412.2,-68.3 414.83,-78.56 420.66,-74.68\"/>\n</g>\n<!-- 7 -->\n<g id=\"node8\" class=\"node\">\n<title>7</title>\n<path fill=\"#e89152\" stroke=\"black\" d=\"M609.5,-68C609.5,-68 486.5,-68 486.5,-68 480.5,-68 474.5,-62 474.5,-56 474.5,-56 474.5,-12 474.5,-12 474.5,-6 480.5,0 486.5,0 486.5,0 609.5,0 609.5,0 615.5,0 621.5,-6 621.5,-12 621.5,-12 621.5,-56 621.5,-56 621.5,-62 615.5,-68 609.5,-68\"/>\n<text text-anchor=\"middle\" x=\"548\" y=\"-52.8\" font-family=\"Helvetica,sans-Serif\" font-size=\"14.00\">gini = 0.198</text>\n<text text-anchor=\"middle\" x=\"548\" y=\"-37.8\" font-family=\"Helvetica,sans-Serif\" font-size=\"14.00\">samples = 3.0%</text>\n<text text-anchor=\"middle\" x=\"548\" y=\"-22.8\" font-family=\"Helvetica,sans-Serif\" font-size=\"14.00\">value = [0.889, 0.111]</text>\n<text text-anchor=\"middle\" x=\"548\" y=\"-7.8\" font-family=\"Helvetica,sans-Serif\" font-size=\"14.00\">class = Not Survived</text>\n</g>\n<!-- 5&#45;&gt;7 -->\n<g id=\"edge7\" class=\"edge\">\n<title>5&#45;&gt;7</title>\n<path fill=\"none\" stroke=\"black\" d=\"M494.65,-103.73C501.59,-94.79 508.94,-85.32 515.9,-76.36\"/>\n<polygon fill=\"black\" stroke=\"black\" points=\"518.78,-78.35 522.15,-68.3 513.25,-74.05 518.78,-78.35\"/>\n</g>\n<!-- 9 -->\n<g id=\"node10\" class=\"node\">\n<title>9</title>\n<path fill=\"#9ccef2\" stroke=\"black\" d=\"M834.5,-187C834.5,-187 711.5,-187 711.5,-187 705.5,-187 699.5,-181 699.5,-175 699.5,-175 699.5,-116 699.5,-116 699.5,-110 705.5,-104 711.5,-104 711.5,-104 834.5,-104 834.5,-104 840.5,-104 846.5,-110 846.5,-116 846.5,-116 846.5,-175 846.5,-175 846.5,-181 840.5,-187 834.5,-187\"/>\n<text text-anchor=\"middle\" x=\"773\" y=\"-171.8\" font-family=\"Helvetica,sans-Serif\" font-size=\"14.00\">SibSp &lt;= 2.5</text>\n<text text-anchor=\"middle\" x=\"773\" y=\"-156.8\" font-family=\"Helvetica,sans-Serif\" font-size=\"14.00\">gini = 0.444</text>\n<text text-anchor=\"middle\" x=\"773\" y=\"-141.8\" font-family=\"Helvetica,sans-Serif\" font-size=\"14.00\">samples = 2.7%</text>\n<text text-anchor=\"middle\" x=\"773\" y=\"-126.8\" font-family=\"Helvetica,sans-Serif\" font-size=\"14.00\">value = [0.333, 0.667]</text>\n<text text-anchor=\"middle\" x=\"773\" y=\"-111.8\" font-family=\"Helvetica,sans-Serif\" font-size=\"14.00\">class = Survived</text>\n</g>\n<!-- 8&#45;&gt;9 -->\n<g id=\"edge9\" class=\"edge\">\n<title>8&#45;&gt;9</title>\n<path fill=\"none\" stroke=\"black\" d=\"M773,-222.91C773,-214.65 773,-205.86 773,-197.3\"/>\n<polygon fill=\"black\" stroke=\"black\" points=\"776.5,-197.02 773,-187.02 769.5,-197.02 776.5,-197.02\"/>\n</g>\n<!-- 12 -->\n<g id=\"node13\" class=\"node\">\n<title>12</title>\n<path fill=\"#ea9a61\" stroke=\"black\" d=\"M1074.5,-187C1074.5,-187 951.5,-187 951.5,-187 945.5,-187 939.5,-181 939.5,-175 939.5,-175 939.5,-116 939.5,-116 939.5,-110 945.5,-104 951.5,-104 951.5,-104 1074.5,-104 1074.5,-104 1080.5,-104 1086.5,-110 1086.5,-116 1086.5,-116 1086.5,-175 1086.5,-175 1086.5,-181 1080.5,-187 1074.5,-187\"/>\n<text text-anchor=\"middle\" x=\"1013\" y=\"-171.8\" font-family=\"Helvetica,sans-Serif\" font-size=\"14.00\">Pclass &lt;= 1.5</text>\n<text text-anchor=\"middle\" x=\"1013\" y=\"-156.8\" font-family=\"Helvetica,sans-Serif\" font-size=\"14.00\">gini = 0.28</text>\n<text text-anchor=\"middle\" x=\"1013\" y=\"-141.8\" font-family=\"Helvetica,sans-Serif\" font-size=\"14.00\">samples = 62.1%</text>\n<text text-anchor=\"middle\" x=\"1013\" y=\"-126.8\" font-family=\"Helvetica,sans-Serif\" font-size=\"14.00\">value = [0.832, 0.168]</text>\n<text text-anchor=\"middle\" x=\"1013\" y=\"-111.8\" font-family=\"Helvetica,sans-Serif\" font-size=\"14.00\">class = Not Survived</text>\n</g>\n<!-- 8&#45;&gt;12 -->\n<g id=\"edge12\" class=\"edge\">\n<title>8&#45;&gt;12</title>\n<path fill=\"none\" stroke=\"black\" d=\"M846.64,-227.6C873.01,-214.75 902.91,-200.17 930.01,-186.96\"/>\n<polygon fill=\"black\" stroke=\"black\" points=\"931.63,-190.06 939.09,-182.53 928.56,-183.77 931.63,-190.06\"/>\n</g>\n<!-- 10 -->\n<g id=\"node11\" class=\"node\">\n<title>10</title>\n<path fill=\"#399de5\" stroke=\"black\" d=\"M744.5,-68C744.5,-68 651.5,-68 651.5,-68 645.5,-68 639.5,-62 639.5,-56 639.5,-56 639.5,-12 639.5,-12 639.5,-6 645.5,0 651.5,0 651.5,0 744.5,0 744.5,0 750.5,0 756.5,-6 756.5,-12 756.5,-12 756.5,-56 756.5,-56 756.5,-62 750.5,-68 744.5,-68\"/>\n<text text-anchor=\"middle\" x=\"698\" y=\"-52.8\" font-family=\"Helvetica,sans-Serif\" font-size=\"14.00\">gini = 0.0</text>\n<text text-anchor=\"middle\" x=\"698\" y=\"-37.8\" font-family=\"Helvetica,sans-Serif\" font-size=\"14.00\">samples = 1.7%</text>\n<text text-anchor=\"middle\" x=\"698\" y=\"-22.8\" font-family=\"Helvetica,sans-Serif\" font-size=\"14.00\">value = [0.0, 1.0]</text>\n<text text-anchor=\"middle\" x=\"698\" y=\"-7.8\" font-family=\"Helvetica,sans-Serif\" font-size=\"14.00\">class = Survived</text>\n</g>\n<!-- 9&#45;&gt;10 -->\n<g id=\"edge10\" class=\"edge\">\n<title>9&#45;&gt;10</title>\n<path fill=\"none\" stroke=\"black\" d=\"M745.07,-103.73C739.01,-94.88 732.6,-85.51 726.51,-76.63\"/>\n<polygon fill=\"black\" stroke=\"black\" points=\"729.35,-74.57 720.81,-68.3 723.57,-78.53 729.35,-74.57\"/>\n</g>\n<!-- 11 -->\n<g id=\"node12\" class=\"node\">\n<title>11</title>\n<path fill=\"#e89152\" stroke=\"black\" d=\"M909.5,-68C909.5,-68 786.5,-68 786.5,-68 780.5,-68 774.5,-62 774.5,-56 774.5,-56 774.5,-12 774.5,-12 774.5,-6 780.5,0 786.5,0 786.5,0 909.5,0 909.5,0 915.5,0 921.5,-6 921.5,-12 921.5,-12 921.5,-56 921.5,-56 921.5,-62 915.5,-68 909.5,-68\"/>\n<text text-anchor=\"middle\" x=\"848\" y=\"-52.8\" font-family=\"Helvetica,sans-Serif\" font-size=\"14.00\">gini = 0.198</text>\n<text text-anchor=\"middle\" x=\"848\" y=\"-37.8\" font-family=\"Helvetica,sans-Serif\" font-size=\"14.00\">samples = 1.0%</text>\n<text text-anchor=\"middle\" x=\"848\" y=\"-22.8\" font-family=\"Helvetica,sans-Serif\" font-size=\"14.00\">value = [0.889, 0.111]</text>\n<text text-anchor=\"middle\" x=\"848\" y=\"-7.8\" font-family=\"Helvetica,sans-Serif\" font-size=\"14.00\">class = Not Survived</text>\n</g>\n<!-- 9&#45;&gt;11 -->\n<g id=\"edge11\" class=\"edge\">\n<title>9&#45;&gt;11</title>\n<path fill=\"none\" stroke=\"black\" d=\"M800.93,-103.73C806.99,-94.88 813.4,-85.51 819.49,-76.63\"/>\n<polygon fill=\"black\" stroke=\"black\" points=\"822.43,-78.53 825.19,-68.3 816.65,-74.57 822.43,-78.53\"/>\n</g>\n<!-- 13 -->\n<g id=\"node14\" class=\"node\">\n<title>13</title>\n<path fill=\"#f4c7a8\" stroke=\"black\" d=\"M1074.5,-68C1074.5,-68 951.5,-68 951.5,-68 945.5,-68 939.5,-62 939.5,-56 939.5,-56 939.5,-12 939.5,-12 939.5,-6 945.5,0 951.5,0 951.5,0 1074.5,0 1074.5,0 1080.5,0 1086.5,-6 1086.5,-12 1086.5,-12 1086.5,-56 1086.5,-56 1086.5,-62 1080.5,-68 1074.5,-68\"/>\n<text text-anchor=\"middle\" x=\"1013\" y=\"-52.8\" font-family=\"Helvetica,sans-Serif\" font-size=\"14.00\">gini = 0.46</text>\n<text text-anchor=\"middle\" x=\"1013\" y=\"-37.8\" font-family=\"Helvetica,sans-Serif\" font-size=\"14.00\">samples = 13.5%</text>\n<text text-anchor=\"middle\" x=\"1013\" y=\"-22.8\" font-family=\"Helvetica,sans-Serif\" font-size=\"14.00\">value = [0.642, 0.358]</text>\n<text text-anchor=\"middle\" x=\"1013\" y=\"-7.8\" font-family=\"Helvetica,sans-Serif\" font-size=\"14.00\">class = Not Survived</text>\n</g>\n<!-- 12&#45;&gt;13 -->\n<g id=\"edge13\" class=\"edge\">\n<title>12&#45;&gt;13</title>\n<path fill=\"none\" stroke=\"black\" d=\"M1013,-103.73C1013,-95.52 1013,-86.86 1013,-78.56\"/>\n<polygon fill=\"black\" stroke=\"black\" points=\"1016.5,-78.3 1013,-68.3 1009.5,-78.3 1016.5,-78.3\"/>\n</g>\n<!-- 14 -->\n<g id=\"node15\" class=\"node\">\n<title>14</title>\n<path fill=\"#e89153\" stroke=\"black\" d=\"M1239.5,-68C1239.5,-68 1116.5,-68 1116.5,-68 1110.5,-68 1104.5,-62 1104.5,-56 1104.5,-56 1104.5,-12 1104.5,-12 1104.5,-6 1110.5,0 1116.5,0 1116.5,0 1239.5,0 1239.5,0 1245.5,0 1251.5,-6 1251.5,-12 1251.5,-12 1251.5,-56 1251.5,-56 1251.5,-62 1245.5,-68 1239.5,-68\"/>\n<text text-anchor=\"middle\" x=\"1178\" y=\"-52.8\" font-family=\"Helvetica,sans-Serif\" font-size=\"14.00\">gini = 0.204</text>\n<text text-anchor=\"middle\" x=\"1178\" y=\"-37.8\" font-family=\"Helvetica,sans-Serif\" font-size=\"14.00\">samples = 48.6%</text>\n<text text-anchor=\"middle\" x=\"1178\" y=\"-22.8\" font-family=\"Helvetica,sans-Serif\" font-size=\"14.00\">value = [0.885, 0.115]</text>\n<text text-anchor=\"middle\" x=\"1178\" y=\"-7.8\" font-family=\"Helvetica,sans-Serif\" font-size=\"14.00\">class = Not Survived</text>\n</g>\n<!-- 12&#45;&gt;14 -->\n<g id=\"edge14\" class=\"edge\">\n<title>12&#45;&gt;14</title>\n<path fill=\"none\" stroke=\"black\" d=\"M1074.44,-103.73C1089.22,-93.92 1104.97,-83.46 1119.61,-73.75\"/>\n<polygon fill=\"black\" stroke=\"black\" points=\"1121.69,-76.57 1128.09,-68.13 1117.82,-70.74 1121.69,-76.57\"/>\n</g>\n</g>\n</svg>\n",
            "text/plain": [
              "<graphviz.sources.Source at 0x7ff4e360fa70>"
            ]
          },
          "metadata": {},
          "execution_count": 22
        }
      ]
    }
  ]
}