{
  "nbformat": 4,
  "nbformat_minor": 0,
  "metadata": {
    "colab": {
      "provenance": []
    },
    "kernelspec": {
      "name": "python3",
      "display_name": "Python 3"
    },
    "language_info": {
      "name": "python"
    }
  },
  "cells": [
    {
      "cell_type": "code",
      "execution_count": null,
      "metadata": {
        "colab": {
          "base_uri": "https://localhost:8080/"
        },
        "id": "dKjqunUGQwc3",
        "outputId": "cf1a4c96-83c0-49fe-e2a6-f8dd480c2705"
      },
      "outputs": [
        {
          "output_type": "stream",
          "name": "stdout",
          "text": [
            "Confusion matrix:\n",
            " [[  0   4]\n",
            " [  0 170]]\n",
            "\n",
            "Classification report:\n",
            "               precision    recall  f1-score   support\n",
            "\n",
            "           0       0.00      0.00      0.00         4\n",
            "           1       0.98      1.00      0.99       170\n",
            "\n",
            "    accuracy                           0.98       174\n",
            "   macro avg       0.49      0.50      0.49       174\n",
            "weighted avg       0.95      0.98      0.97       174\n",
            "\n",
            "✅ Huấn luyện xong! Mô hình đã lưu thành công.\n"
          ]
        },
        {
          "output_type": "stream",
          "name": "stderr",
          "text": [
            "/usr/local/lib/python3.12/dist-packages/sklearn/metrics/_classification.py:1565: UndefinedMetricWarning: Precision is ill-defined and being set to 0.0 in labels with no predicted samples. Use `zero_division` parameter to control this behavior.\n",
            "  _warn_prf(average, modifier, f\"{metric.capitalize()} is\", len(result))\n",
            "/usr/local/lib/python3.12/dist-packages/sklearn/metrics/_classification.py:1565: UndefinedMetricWarning: Precision is ill-defined and being set to 0.0 in labels with no predicted samples. Use `zero_division` parameter to control this behavior.\n",
            "  _warn_prf(average, modifier, f\"{metric.capitalize()} is\", len(result))\n",
            "/usr/local/lib/python3.12/dist-packages/sklearn/metrics/_classification.py:1565: UndefinedMetricWarning: Precision is ill-defined and being set to 0.0 in labels with no predicted samples. Use `zero_division` parameter to control this behavior.\n",
            "  _warn_prf(average, modifier, f\"{metric.capitalize()} is\", len(result))\n"
          ]
        }
      ],
      "source": [
        "import pandas as pd\n",
        "from sklearn.model_selection import train_test_split\n",
        "from sklearn.preprocessing import LabelEncoder, StandardScaler\n",
        "from sklearn.svm import SVC\n",
        "from sklearn.metrics import classification_report, confusion_matrix\n",
        "import joblib\n",
        "\n",
        "# --- 1. Đọc dữ liệu ---\n",
        "df = pd.read_csv(\"data.csv\")\n",
        "\n",
        "# Bỏ các hàng bị thiếu giá trị\n",
        "df = df.dropna()\n",
        "\n",
        "# --- 2. Mã hóa dữ liệu chữ thành số ---\n",
        "encoder = LabelEncoder()\n",
        "\n",
        "for col in ['AnimalName', 'symptoms1', 'symptoms2', 'symptoms3', 'symptoms4', 'symptoms5', 'Dangerous']:\n",
        "    df[col] = encoder.fit_transform(df[col])\n",
        "\n",
        "# --- 3. Tách biến đầu vào và đầu ra ---\n",
        "X = df.drop('Dangerous', axis=1)\n",
        "y = df['Dangerous']\n",
        "\n",
        "# --- 4. Chia dữ liệu train/test ---\n",
        "X_train, X_test, y_train, y_test = train_test_split(\n",
        "    X, y, test_size=0.2, random_state=42, stratify=y\n",
        ")\n",
        "\n",
        "# --- 5. Chuẩn hóa dữ liệu ---\n",
        "scaler = StandardScaler()\n",
        "X_train_scaled = scaler.fit_transform(X_train)\n",
        "X_test_scaled = scaler.transform(X_test)\n",
        "\n",
        "# --- 6. Huấn luyện mô hình SVM ---\n",
        "model = SVC(kernel='rbf', C=1, gamma='scale', random_state=42)\n",
        "model.fit(X_train_scaled, y_train)\n",
        "\n",
        "# --- 7. Đánh giá ---\n",
        "y_pred = model.predict(X_test_scaled)\n",
        "print(\"Confusion matrix:\\n\", confusion_matrix(y_test, y_pred))\n",
        "print(\"\\nClassification report:\\n\", classification_report(y_test, y_pred))\n",
        "\n",
        "# --- 8. Lưu model và scaler ---\n",
        "joblib.dump(model, \"svm_animal_model.pkl\")\n",
        "joblib.dump(scaler, \"scaler.pkl\")\n",
        "\n",
        "print(\"✅ Huấn luyện xong! Mô hình đã lưu thành công.\")\n"
      ]
    },
    {
      "cell_type": "markdown",
      "source": [
        "# Mục mới"
      ],
      "metadata": {
        "id": "aQ501tt7RaFD"
      }
    }
  ]
}