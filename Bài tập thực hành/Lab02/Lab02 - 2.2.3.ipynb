{
 "cells": [
  {
   "cell_type": "code",
   "execution_count": 2,
   "metadata": {
    "colab": {
     "base_uri": "https://localhost:8080/",
     "height": 356
    },
    "id": "lcaGmTPq8YIV",
    "outputId": "c17335ea-c903-4f25-e43a-7c8022d3bf44"
   },
   "outputs": [
    {
     "name": "stdout",
     "output_type": "stream",
     "text": [
      "Accuracy: 0.94\n",
      "Confusion Matrix:\n",
      " [[18294    40]\n",
      " [ 1160   506]]\n",
      "Classification Report:\n",
      "               precision    recall  f1-score   support\n",
      "\n",
      "           0       0.94      1.00      0.97     18334\n",
      "           1       0.93      0.30      0.46      1666\n",
      "\n",
      "    accuracy                           0.94     20000\n",
      "   macro avg       0.93      0.65      0.71     20000\n",
      "weighted avg       0.94      0.94      0.93     20000\n",
      "\n"
     ]
    }
   ],
   "source": [
    "#2.2.3\n",
    "# 1) Import\n",
    "import numpy as np\n",
    "from sklearn.model_selection import train_test_split\n",
    "from sklearn.metrics import accuracy_score, confusion_matrix, classification_report\n",
    "import matplotlib.pyplot as plt\n",
    "\n",
    "# 2) Load data\n",
    "import pandas as pd\n",
    "df = pd.read_csv(\"diabetes_prediction_dataset.csv\")\n",
    "X = df[[\"bmi\", \"HbA1c_level\"]].astype(float).to_numpy()\n",
    "y = df[\"diabetes\"].astype(int).to_numpy()\n",
    "\n",
    "# 3) Train/test split (80/20)\n",
    "X_train, X_test, y_train, y_test = train_test_split(\n",
    "    X, y, test_size=0.2, random_state=101)\n",
    "\n",
    "# 4) Model (Linear SVM)\n",
    "from sklearn import svm\n",
    "clf = svm.LinearSVC(C=1.0, dual=False, max_iter=5000).fit(X_train, y_train)\n",
    "\n",
    "# 5) Predict & evaluate\n",
    "y_pred = clf.predict(X_test)\n",
    "acc = accuracy_score(y_test, y_pred)\n",
    "cm = confusion_matrix(y_test, y_pred, labels=[0, 1])\n",
    "cls_rep = classification_report(\n",
    "    y_test, y_pred,\n",
    "\n",
    "    labels=[0, 1],\n",
    "    target_names=[\"No diabetes\", \"Diabetes\"],\n",
    ")\n",
    "\n",
    "# 6) Print\n",
    "print(\"Accuracy:\", accuracy_score(y_test, y_pred))\n",
    "print(\"Confusion Matrix:\\n\", confusion_matrix(y_test, y_pred))\n",
    "print(\"Classification Report:\\n\", classification_report(y_test, y_pred))\n"
   ]
  }
 ],
 "metadata": {
  "colab": {
   "provenance": []
  },
  "kernelspec": {
   "display_name": "Python 3 (ipykernel)",
   "language": "python",
   "name": "python3"
  },
  "language_info": {
   "codemirror_mode": {
    "name": "ipython",
    "version": 3
   },
   "file_extension": ".py",
   "mimetype": "text/x-python",
   "name": "python",
   "nbconvert_exporter": "python",
   "pygments_lexer": "ipython3",
   "version": "3.12.1"
  }
 },
 "nbformat": 4,
 "nbformat_minor": 4
}
