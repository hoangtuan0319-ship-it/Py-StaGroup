{
  "cells": [
    {
      "cell_type": "markdown",
      "id": "be03c92a",
      "metadata": {
        "id": "be03c92a"
      },
      "source": [
        "### Import thư viện"
      ]
    },
    {
      "cell_type": "code",
      "execution_count": null,
      "id": "2e44de4c",
      "metadata": {
        "id": "2e44de4c"
      },
      "outputs": [],
      "source": [
        "# Import thư viện\n",
        "import numpy as np\n",
        "import pandas as pd\n",
        "from sklearn.model_selection import train_test_split\n",
        "from sklearn.feature_extraction.text import CountVectorizer\n",
        "from sklearn.naive_bayes import MultinomialNB\n",
        "from sklearn.metrics import accuracy_score, confusion_matrix, classification_report"
      ]
    },
    {
      "cell_type": "markdown",
      "id": "68c735d3",
      "metadata": {
        "id": "68c735d3"
      },
      "source": [
        "### Tiền xử lý dữ liệu"
      ]
    },
    {
      "cell_type": "code",
      "execution_count": null,
      "id": "5b8acd9f",
      "metadata": {
        "id": "5b8acd9f",
        "outputId": "d458b4ff-4a4e-4a76-abbc-495cbfaafa30"
      },
      "outputs": [
        {
          "name": "stdout",
          "output_type": "stream",
          "text": [
            "Index(['User ID', 'Gender', 'Age', 'EstimatedSalary', 'Purchased'], dtype='object')\n",
            "    User ID  Gender  Age  EstimatedSalary  Purchased\n",
            "0  15624510       1   19            19000          0\n",
            "1  15810944       1   35            20000          0\n",
            "2  15668575       0   26            43000          0\n",
            "3  15603246       0   27            57000          0\n",
            "4  15804002       1   19            76000          0\n"
          ]
        }
      ],
      "source": [
        "# Đọc dữ liệu\n",
        "data = pd.read_csv('Customer_Behaviour.csv', encoding='latin-1')\n",
        "# Hiển thị 5 dòng đầu\n",
        "data.head()\n",
        "print(data.columns)\n",
        "# Import LabelEncoder\n",
        "from sklearn.preprocessing import LabelEncoder\n",
        "\n",
        "# Mã hóa cột Gender: Male/Female -> 1/0\n",
        "le = LabelEncoder()\n",
        "data['Gender'] = le.fit_transform(data['Gender'])\n",
        "print(data.head())"
      ]
    },
    {
      "cell_type": "markdown",
      "id": "6035c751",
      "metadata": {
        "id": "6035c751"
      },
      "source": [
        "### Huấn luyện mô hình"
      ]
    },
    {
      "cell_type": "code",
      "execution_count": null,
      "id": "540eedde",
      "metadata": {
        "id": "540eedde"
      },
      "outputs": [],
      "source": [
        "# Chia X (đặc trưng) và y (nhãn)\n",
        "X = data.drop('Purchased', axis=1)   # Gender, Age, Salary\n",
        "y = data['Purchased']                # Nhãn: Purchased\n",
        "# Tách train/test (80/20)\n",
        "X_train, X_test, y_train, y_test = train_test_split(\n",
        "    X, y, test_size=0.2, random_state=42\n",
        ")\n",
        "# Khởi tạo mô hình Naïve Bayes (Gaussian)\n",
        "from sklearn.naive_bayes import GaussianNB\n",
        "model = GaussianNB()\n",
        "\n",
        "# Huấn luyện\n",
        "model.fit(X_train, y_train)\n",
        "\n",
        "# Dự đoán\n",
        "y_pred = model.predict(X_test)"
      ]
    },
    {
      "cell_type": "markdown",
      "id": "775181f2",
      "metadata": {
        "id": "775181f2"
      },
      "source": [
        "### In ra kết quả"
      ]
    },
    {
      "cell_type": "code",
      "execution_count": null,
      "id": "7e1fd499",
      "metadata": {
        "id": "7e1fd499",
        "outputId": "2aab373a-42ad-4c07-d024-7a1e0c9ced3d"
      },
      "outputs": [
        {
          "name": "stdout",
          "output_type": "stream",
          "text": [
            "Accuracy: 0.925\n",
            "Confusion Matrix:\n",
            " [[51  1]\n",
            " [ 5 23]]\n",
            "Classification Report:\n",
            "               precision    recall  f1-score   support\n",
            "\n",
            "           0       0.91      0.98      0.94        52\n",
            "           1       0.96      0.82      0.88        28\n",
            "\n",
            "    accuracy                           0.93        80\n",
            "   macro avg       0.93      0.90      0.91        80\n",
            "weighted avg       0.93      0.93      0.92        80\n",
            "\n"
          ]
        }
      ],
      "source": [
        "# Độ chính xác\n",
        "print(\"Accuracy:\", accuracy_score(y_test, y_pred))\n",
        "\n",
        "# Ma trận nhầm lẫn\n",
        "print(\"Confusion Matrix:\\n\", confusion_matrix(y_test, y_pred))\n",
        "\n",
        "# Báo cáo chi tiết\n",
        "print(\"Classification Report:\\n\", classification_report(y_test, y_pred))"
      ]
    }
  ],
  "metadata": {
    "kernelspec": {
      "display_name": ".venv",
      "language": "python",
      "name": "python3"
    },
    "language_info": {
      "codemirror_mode": {
        "name": "ipython",
        "version": 3
      },
      "file_extension": ".py",
      "mimetype": "text/x-python",
      "name": "python",
      "nbconvert_exporter": "python",
      "pygments_lexer": "ipython3",
      "version": "3.12.3"
    },
    "colab": {
      "provenance": []
    }
  },
  "nbformat": 4,
  "nbformat_minor": 5
}